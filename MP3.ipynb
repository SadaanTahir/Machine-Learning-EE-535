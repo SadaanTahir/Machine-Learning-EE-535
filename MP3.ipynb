{
  "cells": [
    {
      "cell_type": "markdown",
      "id": "03373c37",
      "metadata": {
        "id": "03373c37"
      },
      "source": [
        "# MP3: Logistic Regression"
      ]
    },
    {
      "cell_type": "markdown",
      "id": "b5216e2a",
      "metadata": {
        "id": "b5216e2a",
        "tags": [
          "parameters"
        ]
      },
      "source": [
        "The purpose of this first task is to get familiar with Sentiment Classification by essentially creating our own “Sentiment Analyzer”.\n",
        "\n",
        "The dataset given is essentially, a large number of Movie Reviews that contains separate labeled train and test sets. The task here is to train a Logistic Regression classifier on the train set and report the model's accuracy on the test set."
      ]
    },
    {
      "cell_type": "markdown",
      "id": "8d7ad39b",
      "metadata": {},
      "source": [
        "### Importing Libraries"
      ]
    },
    {
      "cell_type": "code",
      "execution_count": 1,
      "id": "c9a042d3",
      "metadata": {},
      "outputs": [],
      "source": [
        "import os\n",
        "import re\n",
        "import string\n",
        "import random\n",
        "import numpy as np\n",
        "import seaborn as sns\n",
        "import matplotlib.pyplot as plt\n",
        "from sklearn.linear_model import LogisticRegression\n",
        "from sklearn.metrics import accuracy_score, f1_score, confusion_matrix\n",
        "import matplotlib.pyplot as plt"
      ]
    },
    {
      "cell_type": "markdown",
      "id": "9fe3d10b",
      "metadata": {},
      "source": [
        "### Dataset info:\n",
        "\n",
        "The core dataset contains 50,000 reviews split evenly into 25k train and 25k test sets. The overall distribution of labels is balanced (25k `pos` and 25k `neg`).\n",
        "\n",
        "There are two top-level directories `[train/, test/]` corresponding to the training and test sets. Each contains `[pos/, neg/]` directories for the reviews with binary labels positive and negative. Within these directories, reviews are stored in text files named following the convention `<id>_<rating>.txt` where `id` is a unique id and `rating` is the star rating for that review on a 1-10 scale.\n",
        "\n",
        "Loading the dataset in the cell below."
      ]
    },
    {
      "cell_type": "code",
      "execution_count": 2,
      "id": "c6ec0d6e",
      "metadata": {
        "id": "c6ec0d6e"
      },
      "outputs": [],
      "source": [
        "def load_reviews(directory):\n",
        "    reviews = []\n",
        "    for file in os.listdir(directory):\n",
        "        with open(os.path.join(directory, file), 'r', encoding = 'utf-8') as f:\n",
        "            review = f.read()\n",
        "            reviews.append((review))\n",
        "    return reviews\n",
        "\n",
        "train_directory = 'train'\n",
        "test_directory = 'test'\n",
        "\n",
        "train_positive_reviews = load_reviews(os.path.join(train_directory, 'pos'))\n",
        "train_negative_reviews = load_reviews(os.path.join(train_directory, 'neg'))\n",
        "test_positive_reviews = load_reviews(os.path.join(test_directory, 'pos'))\n",
        "test_negative_reviews = load_reviews(os.path.join(test_directory, 'neg'))"
      ]
    },
    {
      "cell_type": "markdown",
      "id": "66384c63",
      "metadata": {
        "id": "66384c63"
      },
      "source": [
        "### Preprocessing the data\n",
        "\n",
        "In this preprocessing stage we would need to make certain changes to the dataset before we can work with it.\n",
        "\n",
        "We will be removing some stop words, punctuation marks, special characters and converting the text to lower case. The `string` and `regex` modules prove to be useful for this purpose. The stop words list used for this task is provided in the repository under the text file, namely `stop_words.txt`."
      ]
    },
    {
      "cell_type": "code",
      "execution_count": 3,
      "id": "d8fe2f33",
      "metadata": {
        "id": "d8fe2f33"
      },
      "outputs": [
        {
          "name": "stdout",
          "output_type": "stream",
          "text": [
            "Last five positive and negative reviews from the training data:\n",
            " \n",
            "Positive Review 1: seeing vote average pretty low fact clerk video store thought ok much expectations renting film br br contrary enjoyed lot charming movie need grow enjoyed beginning mel brooks gives great performance lead character think somewhat different usual persona movies br br lot knockout jokes something like rather hilarious scenes overall enjoyable easy watch film br br recommended\n",
            "Positive Review 2: plot wretched unbelievable twists however chemistry mel brooks leslie ann warren excellent insight comes moments provides philosophical handle anyone could pick embrace life br br one several moments wonderfully memorable\n",
            "Positive Review 3: amazed movie others average 5 stars lower crappy movies averaging 7 10 stars imdb fanboy mentality strikes movie came everyone slammed even ex girlfriend said movie questionable years later sat watch movie found enjoying even laughing quite bit replacement killers movies people labeling director antoine fuqua black michael bay see since fuqua movies smarter anything michael bay came rate br br story alvin sanders jamie foxx former convict used nonsense treasury agent edgar david morse pawn catch killer named bristol doug hutchinson alvin every moves tracked bug implanted jaw accident agents bristol bristol gold bricks taken heist gone awry br br jamie foxx funny well great alvin sanders alvin fast talker lot smarter lets doug hutchinson okay bristol top sometimes john malkovitchesque demeanor better looney bin jim punisher war zone david morse good hard edged treasury agent even mike epps funny alvin brother stevie jamie funny moments screen br br flaw movie attempts thriller fall flat scenario horse race track way top look away director went gets points plus bomb scene treasury agent tied chair detonator rests door pretty nifty br br bait bad movie long shot never boring always funny checking watch every minute count something bait one underrated movies 2000 period br br ps reviewer claimed movie violent long living rock pretty sure seen die hard series every movie quentin tarantino movies violent right weirdo\n",
            "Positive Review 4: christmas together actually came time raised john denver songs special always family christmas music years crackling cassette made record meant christmas years ago finally able track video ebay listening music 21 years got see john muppets action ever get chance lot fun great music heart warming cheesy also interesting see 70 versions muppets compare newer versions today believe denver actually took heat show like guess normally performers compromise images sing longs muppets glad even track video soundtrack worth muppified traditional favorites also original denver tunes well\n",
            "Positive Review 5: working class romantic drama director martin ritt unbelievable come yet moments pleasure due mostly charisma stars jane fonda robert de niro terrific widow move illiterate closet inventor probably guess rest adaptation pat barker novel union street better title laid back verges bland film editing mess still pleasant rosy hued blue collar fantasy overtures serious issues even illiteracy angle plot tool ensuing love story real fireworks though characters intentionally bit colorless leads toned interesting degree finale pure fluff cynics find difficult swallow though two characters deserve happy ending picture really satisfying way\n",
            " \n",
            "Negative Review 1: towards end movie felt technical felt like classroom watching navy performs rescues sea liked seeing engines fire extinguishers guess figured never thought using 747 transport valuable old paintings little security odd realistic acting pretty good since mostly seasoned professionals going stretch far would likely happen like fantasy comical etc everything taken seriously least movie felix ungar pilot buck rogers night stalker dracula also board movie filled well known faces understand hollywood exaggerate bit drama hurt quality movie serious subject made caricature said comical pet peeve movies airline travel everybody casually moves walk around drinks setting picking 5 minutes later building something acting turbulence exist also know disaster movie suspense include 30 second crash hitting something anyway skilled actors actresses keep weak script made movie got canned first screening like lee grant fun watch psychotic person get decked\n",
            "Negative Review 2: kind movie enemies content watch time bloody true watch make sure bad first thought br br kind mobsters hijack boeing 747 least improvement boeing hijack good part pentagon airplane goes bermuda triangle sinks pressurized bottoms kind post facto submarine br br one star casts stars either falling barely horizon br br says pilot jack lemon right except george kennedy disaster movies br br watch another movie instead oh airport original good either instead watch decent flick stuck airplanes like flight phoenix\n",
            "Negative Review 3: saw descent last night stockholm film festival one huge disappointment disappointment storyline potentially powerful prospect seeing rosario dawson smaller intimate movie exciting fan sounds pervy rape revenge flicks 70 needless say curious check movie conclusion let stick classics yes storyline potential dialogs flat actors unconvincing even dawson empty would say right depiction college world us emptiness characters serve purpose jazz makes whole movie unsubstantial like scene dawson gets raped seriously lacks intensity expecting anything irreversible style still suppose feel compassion minute lame way read photography impressive well good indeed nothing ground breaking either must admit screening festival good maybe missed something end movie help thinking feel like watching argento inferno lol seriously first scene club beautifully shot bitter sensation watching longer boring version scene filthy bar near american canadian border lynch twin peaks fire walk crude red blue lighting heavy bass music general lascivious decadent atmosphere get movie bad\n",
            "Negative Review 4: films pick pound turn rather good 23rd century films released dozens obscure italian american movie great although hardgore released fulci films amongst others bulk output crap like zombie chronicles br br positive thing say film nowhere near annoying stink flesh clumsy anthology film technical competence lego house built whelk br br noted elsewhere really worry film inserts previews action credit sequence time gets zombie attacks seen already br br bad movie fans ball watching 18 000 continuity mistakes diabolical acting cast especially hitchhiker bad make laugh bit kudos hardgore getting spirit things releasing print bad felt like watching beat home video camping trip br br awful awful stuff made stuff like gotten hold camera common sense prevails films languish cupboards somewhere avoid\n",
            "Negative Review 5: one dumbest films ever seen rips nearly ever type thriller manages make mess br br single good line character whole mess plot afterthought far acting goes nothing good say ill say nothing honestly cant understand type nonsense gets produced actually released somebody somewhere stage think oh god really load shite call day crap like people downloading illegally trailer looks like completely different film least download wasted time money waste time painful\n"
          ]
        }
      ],
      "source": [
        "def preProcessing(text, stop_words):\n",
        "    text = text.lower() # converting to lower case\n",
        "    text = re.sub(f\"[{string.punctuation}]\", ' ', text) # removing special characters and punctuation\n",
        "    text = re.sub(r'\\s+', ' ', text) # removing extra spaces\n",
        "    words = text.split()\n",
        "    words = [word for word in words if word not in stop_words] # removing the stop words\n",
        "    processed_text = ' '.join(words)\n",
        "\n",
        "    return processed_text\n",
        "\n",
        "# reading the stop words from the 'stop_words.txt' file\n",
        "with open('stop_words.txt', 'r', encoding = 'utf-8') as file:\n",
        "    stop_words = set(file.read().splitlines())\n",
        "\n",
        "# preprocessing the train data and overwriting it\n",
        "train_positive_reviews = [preProcessing(review, stop_words) for review in train_positive_reviews]\n",
        "train_negative_reviews = [preProcessing(review, stop_words) for review in train_negative_reviews]\n",
        "\n",
        "# preprocessing the test data and overwriting it\n",
        "test_positive_reviews = [preProcessing(review, stop_words) for review in test_positive_reviews]\n",
        "test_negative_reviews = [preProcessing(review, stop_words) for review in test_negative_reviews]\n",
        "\n",
        "print(\"Last five positive and negative reviews from the training data:\")\n",
        "print(\" \")\n",
        "for i, review in enumerate(train_positive_reviews[-5:], start = 1):\n",
        "    print(f\"Positive Review {i}: {review}\")\n",
        "print(\" \")\n",
        "for i, review in enumerate(train_negative_reviews[-5:], start = 1):\n",
        "    print(f\"Negative Review {i}: {review}\")"
      ]
    },
    {
      "cell_type": "markdown",
      "id": "257b819c",
      "metadata": {
        "id": "257b819c"
      },
      "source": [
        "### Feature Extraction\n",
        "\n",
        "In this feature extraction step we will represent each review by the two features $x^{(1)}$: count of positive words, and $x^{(2)}$: count of negative words, and a class label $y$ as shown in the table below:\n",
        "\n",
        "| Feature | Definition | Comment |\n",
        "| --- | --- | --- |\n",
        "| $x^{(1)}$ | count(positive words) ∈ review | Positive lexicon is provided |\n",
        "| $x^{(2)}$ | count(negative words) ∈ review | Negative lexicon is provided |\n",
        "| $y$ | 1 if positive, 0 otherwise | Mentioned in directory name |\n",
        "\n",
        "Extracting features and printing five positive class datapoints and five negative class datapoints from training dataset, each showing the three aforementioned values."
      ]
    },
    {
      "cell_type": "code",
      "execution_count": 4,
      "id": "54337fe5",
      "metadata": {
        "id": "54337fe5"
      },
      "outputs": [
        {
          "name": "stdout",
          "output_type": "stream",
          "text": [
            "Five positive class datapoints:\n",
            "Positive Word Count: 5, Negative Word Count: 5, Class Label: 1\n",
            "Positive Word Count: 17, Negative Word Count: 15, Class Label: 1\n",
            "Positive Word Count: 9, Negative Word Count: 7, Class Label: 1\n",
            "Positive Word Count: 8, Negative Word Count: 6, Class Label: 1\n",
            "Positive Word Count: 6, Negative Word Count: 2, Class Label: 1\n",
            " \n",
            "Five negative class datapoints:\n",
            "Positive Word Count: 5, Negative Word Count: 8, Class Label: 0\n",
            "Positive Word Count: 33, Negative Word Count: 50, Class Label: 0\n",
            "Positive Word Count: 8, Negative Word Count: 4, Class Label: 0\n",
            "Positive Word Count: 6, Negative Word Count: 10, Class Label: 0\n",
            "Positive Word Count: 10, Negative Word Count: 25, Class Label: 0\n"
          ]
        }
      ],
      "source": [
        "positive_words = set(open('positive_words.txt', 'r').read().splitlines())\n",
        "negative_words = set(open('negative_words.txt', 'r').read().splitlines())\n",
        "\n",
        "def PosNeg_words(review, positive_words, negative_words):\n",
        "    words = review.split()\n",
        "    positive_word_count = sum(1 for word in words if word in positive_words)\n",
        "    negative_word_count = sum(1 for word in words if word in negative_words)\n",
        "    return positive_word_count, negative_word_count\n",
        "\n",
        "positive_train_fe = []\n",
        "for review in train_positive_reviews:\n",
        "    positive_word_count, negative_word_count = PosNeg_words(review, positive_words, negative_words)\n",
        "    label = 1\n",
        "    positive_train_fe.append((positive_word_count, negative_word_count, label))\n",
        "\n",
        "negative_train_fe = []\n",
        "for review in train_negative_reviews:\n",
        "    positive_word_count, negative_word_count = PosNeg_words(review, positive_words, negative_words)\n",
        "    label = 0\n",
        "    negative_train_fe.append((positive_word_count, negative_word_count, label))\n",
        "    \n",
        "training_data = positive_train_fe + negative_train_fe # this holds the entirety of the training data with features extracted\n",
        "\n",
        "print(\"Five positive class datapoints:\")\n",
        "for i in range(5):\n",
        "    print(f\"Positive Word Count: {positive_train_fe[i][0]}, Negative Word Count: {positive_train_fe[i][1]}, Class Label: {positive_train_fe[i][2]}\")\n",
        "print(\" \")\n",
        "print(\"Five negative class datapoints:\")\n",
        "for i in range(5):\n",
        "    print(f\"Positive Word Count: {negative_train_fe[i][0]}, Negative Word Count: {negative_train_fe[i][1]}, Class Label: {negative_train_fe[i][2]}\")\n",
        "\n",
        "positive_test_fe = []\n",
        "for review in test_positive_reviews:\n",
        "    positive_word_count, negative_word_count = PosNeg_words(review, positive_words, negative_words)\n",
        "    label = 1\n",
        "    positive_test_fe.append((positive_word_count, negative_word_count, label))\n",
        "\n",
        "negative_test_fe = []\n",
        "for review in test_negative_reviews:\n",
        "    positive_word_count, negative_word_count = PosNeg_words(review, positive_words, negative_words)\n",
        "    label = 0\n",
        "    negative_test_fe.append((positive_word_count, negative_word_count, label))\n",
        "\n",
        "testing_data = positive_test_fe + negative_test_fe # this holds the entirety of the test data made into a list with features extracted\n",
        "\n",
        "# shuffling both the training and testing data because I think that might positively impact the models performance later on\n",
        "random.shuffle(testing_data)\n",
        "random.shuffle(training_data)"
      ]
    },
    {
      "cell_type": "markdown",
      "id": "b83efe4b",
      "metadata": {},
      "source": [
        "### Preparing the data (features extracted) for evaluation:"
      ]
    },
    {
      "cell_type": "markdown",
      "id": "d8a1f2e2",
      "metadata": {
        "id": "d8a1f2e2"
      },
      "source": [
        "Splitting the training dataset into a `9:1` split for training and evaluation. This evaluation dataset will later be used to finetune the hyperparameters."
      ]
    },
    {
      "cell_type": "code",
      "execution_count": 5,
      "id": "43b474ff",
      "metadata": {
        "id": "43b474ff"
      },
      "outputs": [
        {
          "name": "stdout",
          "output_type": "stream",
          "text": [
            "Size of Training Dataset: 22500\n",
            "Size of Evaluation Dataset: 2500\n",
            " \n",
            "x_train shape: (22500, 2)\n",
            "y_train shape: (22500,)\n",
            " \n",
            "x_test shape: (25000, 2)\n",
            "y_test shape: (25000,)\n",
            " \n",
            "x_validate shape: (2500, 2)\n",
            "y_validate shape: (2500,)\n"
          ]
        }
      ],
      "source": [
        "splitting_ratio = 0.9\n",
        "\n",
        "split_index = int(len(training_data) * splitting_ratio)\n",
        "\n",
        "training_dataset = training_data[:split_index]\n",
        "evaluation_dataset = training_data[split_index:]\n",
        "\n",
        "print(\"Size of Training Dataset:\", len(training_dataset))\n",
        "print(\"Size of Evaluation Dataset:\", len(evaluation_dataset))\n",
        "\n",
        "# after shuffling, I am seperating both the training and testing data into x_train & y_train and x_test & y_test\n",
        "x_train = [[feature[0], feature[1]] for feature in training_dataset]\n",
        "y_train = [label[2] for label in training_dataset]\n",
        "\n",
        "x_test = [[feature[0], feature[1]] for feature in testing_data]\n",
        "y_test = [label[2] for label in testing_data]\n",
        "\n",
        "# doing the same for the validation/evaluation dataset\n",
        "x_validate = [[feature[0], feature[1]] for feature in evaluation_dataset]\n",
        "y_validate = [label[2] for label in evaluation_dataset]\n",
        "\n",
        "# converting the lists to numpy arrays for convenience\n",
        "x_train = np.array(x_train)\n",
        "y_train = np.array(y_train)\n",
        "\n",
        "x_test = np.array(x_test)\n",
        "y_test = np.array(y_test)\n",
        "\n",
        "x_validate = np.array(x_validate)\n",
        "y_validate = np.array(y_validate)\n",
        "\n",
        "# checking the shapes of the new variables\n",
        "print(\" \")\n",
        "print(\"x_train shape:\", x_train.shape)\n",
        "print(\"y_train shape:\", y_train.shape)\n",
        "print(\" \")\n",
        "print(\"x_test shape:\", x_test.shape)\n",
        "print(\"y_test shape:\", y_test.shape)\n",
        "print(\" \")\n",
        "print(\"x_validate shape:\", x_validate.shape)\n",
        "print(\"y_validate shape:\", y_validate.shape)"
      ]
    },
    {
      "cell_type": "markdown",
      "id": "331017de",
      "metadata": {
        "id": "331017de"
      },
      "source": [
        "### Implementation of Logistic Regression\n",
        "\n",
        "Creating a class, and implementing the functionality of a fully fledged Logistic Regression model. A description of the methods in this class is provided below:\n",
        "\n",
        "* `sigmoid(x)` : This is the non-linear \"activation\" function that differentiates Logistic from plain-old Linear Regression.\n",
        "\n",
        "* `cross_entropy_loss(y_true, y_pred)` : This is the loss function that helps in calculating the gradients needed for updating the model. Note that this as this is a Binary Classification task we can use the Binary Cross Entropy function. \n",
        "\n",
        "* `fit(x_train, y_train)` : This will be where we implement the Gradient Descent algorithm again, keeping in mind the differences between Linear and Logistic Regression.\n",
        "\n",
        "* `predict(x_test)` : Predicts whether the label is 0 or 1 for test reviews using learned logistic regression (using a decision threshold of 0.5).\n",
        "\n",
        "* `evaluate(y_true, y_pred)` : Function that calculates classification accuracy, F1 Score and confusion matrix."
      ]
    },
    {
      "cell_type": "code",
      "execution_count": 6,
      "id": "794011ae",
      "metadata": {
        "id": "794011ae"
      },
      "outputs": [],
      "source": [
        "class LogisticRegression_custom:\n",
        "    def __init__(self, learning_rate = 0.001, number_iterations = 10000):\n",
        "        self.learning_rate = learning_rate\n",
        "        self.number_iterations = number_iterations\n",
        "        self.weights = None # initializing the weights and bias\n",
        "        self.bias = None\n",
        "        self.loss_history = []  # the list that will store the loss values\n",
        "\n",
        "    def sigmoid(self, x):\n",
        "        # sigmoid function as defined in the slides\n",
        "        sigmoid_func = 1 / (1 + np.exp(-x)) \n",
        "        return sigmoid_func\n",
        "\n",
        "    def fit(self, X, y):\n",
        "        # initializing the parameters\n",
        "        n_samples, n_features = X.shape\n",
        "        self.weights = np.zeros(n_features) # the number of weights will equal two as there are two features\n",
        "        self.bias = 0\n",
        "\n",
        "        for _ in range(self.number_iterations):\n",
        "            linear_predictions = np.dot(X, self.weights) + self.bias # calling it linear prediction which is then used in the sigmoid function\n",
        "            y_predicted = self.sigmoid(linear_predictions)\n",
        "\n",
        "            # computing the gradients\n",
        "            d_weights = (1 / n_samples) * np.dot(X.T, (y_predicted - y)) # exactly the same as what we did in linear regression, MP2\n",
        "            d_bias = (1 / n_samples) * np.sum(y_predicted - y)\n",
        "\n",
        "            # updating the parameters\n",
        "            self.weights -= self.learning_rate * d_weights # same as in linear regression\n",
        "            self.bias -= self.learning_rate * d_bias\n",
        "            cross_entropy_loss = self.cross_entropy_loss(y, y_predicted)\n",
        "            self.loss_history.append(cross_entropy_loss)\n",
        "\n",
        "    def predict(self, X):\n",
        "        linear_predictions = np.dot(X, self.weights) + self.bias\n",
        "        y_predicted = self.sigmoid(linear_predictions)\n",
        "        class_pred = np.where(y_predicted <= 0.5, 0, 1) # classifying on the basis of 0.5 threshold\n",
        "        return class_pred\n",
        "\n",
        "    def cross_entropy_loss(self, y_true, y_pred):\n",
        "        # cost function as defined in the slides\n",
        "        m = len(y_true) # total number of samples / instances\n",
        "        loss_func = -(1 / m) * (np.sum(y_true * np.log(y_pred) + ((1 - y_true) * np.log(1 - y_pred))))\n",
        "        return loss_func\n",
        "    \n",
        "    def evaluate(self, y_true, y_pred):\n",
        "        accuracy = np.mean(y_true == y_pred)\n",
        "\n",
        "        true_positives = np.sum(y_true * y_pred)\n",
        "        false_positives = np.sum((1 - y_true) * y_pred)\n",
        "        false_negatives = np.sum(y_true * (1 - y_pred))\n",
        "\n",
        "        precision = true_positives / (true_positives + false_positives)\n",
        "        recall = true_positives / (true_positives + false_negatives)\n",
        "        f1_score = 2 * (precision * recall) / (precision + recall)\n",
        "\n",
        "        confusion_matrix = np.array([[true_positives, false_positives], [false_negatives, len(y_true) - true_positives]])\n",
        "        return accuracy, f1_score, confusion_matrix"
      ]
    },
    {
      "cell_type": "markdown",
      "id": "4beb692e",
      "metadata": {},
      "source": [
        "### Running the model and showing the validation data results:"
      ]
    },
    {
      "cell_type": "markdown",
      "id": "6b787df1",
      "metadata": {
        "id": "6b787df1"
      },
      "source": [
        "Creating a plot with the no. of iterations/epochs on the x-axis and training/validation loss on the y-axis for the evaluation dataset that we separated previously."
      ]
    },
    {
      "cell_type": "code",
      "execution_count": 11,
      "id": "2c55a386",
      "metadata": {
        "id": "2c55a386"
      },
      "outputs": [
        {
          "name": "stdout",
          "output_type": "stream",
          "text": [
            "Logistic Regression from Scratch - Validation Data Results:\n",
            " \n",
            "Accuracy: 72.56 %\n",
            " \n",
            "F1 Score: 0.7297084318360914\n",
            " \n",
            "Confusion Matrix for Evaluation:\n",
            "[[ 926  381]\n",
            " [ 305 1574]]\n"
          ]
        },
        {
          "data": {
            "image/png": "[encoded data removed]",
            "text/plain": [
              "<Figure size 640x480 with 1 Axes>"
            ]
          },
          "metadata": {},
          "output_type": "display_data"
        }
      ],
      "source": [
        "lr = LogisticRegression_custom()\n",
        "lr.fit(x_train, y_train)\n",
        "validation_predictions = lr.predict(x_validate)\n",
        "acc, f1_score, cm = lr.evaluate(y_validate, validation_predictions)\n",
        "print(\"Logistic Regression from Scratch - Validation Data Results:\")\n",
        "print(\" \")\n",
        "print(\"Accuracy:\", (acc * 100), \"%\")\n",
        "print(\" \")\n",
        "print(\"F1 Score:\", f1_score)\n",
        "print(\" \")\n",
        "print(\"Confusion Matrix for Evaluation:\")\n",
        "print(cm)\n",
        "\n",
        "loss_history = lr.loss_history\n",
        "# plotting the loss history over the total number of iterations\n",
        "plt.plot(range(len(loss_history)), loss_history)\n",
        "plt.xlabel(\"Iteration / Epochs\")\n",
        "plt.ylabel(\"Loss History\")\n",
        "plt.title(\"Loss function on Validation Data\")\n",
        "plt.show()"
      ]
    },
    {
      "cell_type": "markdown",
      "id": "33ec97b4",
      "metadata": {},
      "source": [
        "### Running the model and showing the test data results:"
      ]
    },
    {
      "cell_type": "markdown",
      "id": "f434bf54",
      "metadata": {
        "id": "f434bf54"
      },
      "source": [
        "Running the logistic regression model on the test dataset."
      ]
    },
    {
      "cell_type": "code",
      "execution_count": 13,
      "id": "4b2d1d5a",
      "metadata": {
        "id": "4b2d1d5a"
      },
      "outputs": [
        {
          "name": "stdout",
          "output_type": "stream",
          "text": [
            "Logistic Regression from Scratch - Testing:\n",
            " \n",
            "Accuracy: 73.396 %\n",
            " \n",
            "F1 Score: 0.738180529858678\n",
            " \n",
            "Confusion Matrix for Test Data:\n",
            "[[ 9376  3527]\n",
            " [ 3124 15624]]\n"
          ]
        },
        {
          "data": {
            "image/png": "[encoded data removed]",
            "text/plain": [
              "<Figure size 640x480 with 1 Axes>"
            ]
          },
          "metadata": {},
          "output_type": "display_data"
        },
        {
          "data": {
            "image/png": "[encoded data removed]",
            "text/plain": [
              "<Figure size 900x600 with 2 Axes>"
            ]
          },
          "metadata": {},
          "output_type": "display_data"
        }
      ],
      "source": [
        "lr = LogisticRegression_custom()\n",
        "lr.fit(x_train, y_train)\n",
        "test_predictions = lr.predict(x_test)\n",
        "acc, f1_score, cm = lr.evaluate(y_test, test_predictions)\n",
        "print(\"Logistic Regression from Scratch - Testing:\")\n",
        "print(\" \")\n",
        "print(\"Accuracy:\", (acc * 100), \"%\")\n",
        "print(\" \")\n",
        "print(\"F1 Score:\", f1_score)\n",
        "print(\" \")\n",
        "print(\"Confusion Matrix for Test Data:\")\n",
        "print(cm)\n",
        "\n",
        "loss_history = lr.loss_history\n",
        "# plotting the loss history over the total number of iterations\n",
        "plt.plot(range(len(loss_history)), loss_history)\n",
        "plt.xlabel(\"Iteration / Epochs\")\n",
        "plt.ylabel(\"Loss History\")\n",
        "plt.title(\"Lost function on Test Data\")\n",
        "plt.show()\n",
        "\n",
        "# creating a heatmap for the confusion matrix\n",
        "plt.figure(figsize = (9, 6))\n",
        "sns.heatmap(cm, annot = False, cmap = 'Blues', cbar = True)\n",
        "plt.xlabel(\"Predicted Labels\")\n",
        "plt.ylabel(\"Actual Labels\")\n",
        "plt.title(\"Heatmap - Confusion Matrix (Test Data)\")\n",
        "plt.show()"
      ]
    },
    {
      "cell_type": "markdown",
      "id": "e01dd70e",
      "metadata": {},
      "source": [
        "Finish."
      ]
    }
  ],
  "metadata": {
    "colab": {
      "provenance": []
    },
    "kernelspec": {
      "display_name": "Python 3 (ipykernel)",
      "language": "python",
      "name": "python3"
    },
    "language_info": {
      "codemirror_mode": {
        "name": "ipython",
        "version": 3
      },
      "file_extension": ".py",
      "mimetype": "text/x-python",
      "name": "python",
      "nbconvert_exporter": "python",
      "pygments_lexer": "ipython3",
      "version": "3.10.11"
    }
  },
  "nbformat": 4,
  "nbformat_minor": 5
}
